{
 "cells": [
  {
   "cell_type": "code",
   "execution_count": 1,
   "metadata": {},
   "outputs": [
    {
     "name": "stderr",
     "output_type": "stream",
     "text": [
      "/home/alex4321/anaconda3/envs/longdocchat/lib/python3.11/site-packages/tqdm/auto.py:21: TqdmWarning: IProgress not found. Please update jupyter and ipywidgets. See https://ipywidgets.readthedocs.io/en/stable/user_install.html\n",
      "  from .autonotebook import tqdm as notebook_tqdm\n"
     ]
    }
   ],
   "source": [
    "%matplotlib inline\n",
    "import os\n",
    "import pandas as pd\n",
    "from llama_4bit_wrapper import import_llama, lora_model_zeros_and_scales_to_half\n",
    "from peft import LoraConfig, get_peft_model\n",
    "from llama_memorizing_transformers.memory_collection import CosineKnnMemoryCollection\n",
    "from llama_memorizing_transformers.context_choice import ContextChoiceLinear\n",
    "from llama_memorizing_transformers.model_wrapper import replace_llama_layer_with_memory\n",
    "from llama_memorizing_transformers.document_trainer import MemorizingLlamaDocumentTrainer\n",
    "from torch.optim import Adam\n",
    "import torch\n",
    "import numpy as np\n",
    "from torch.utils.tensorboard import SummaryWriter\n",
    "from tqdm import tqdm\n",
    "from itertools import chain\n",
    "from torch.nn.functional import softmax\n",
    "import gc"
   ]
  },
  {
   "cell_type": "code",
   "execution_count": 2,
   "metadata": {},
   "outputs": [],
   "source": [
    "RANDOM_STATE = 42\n",
    "\n",
    "# Dataset\n",
    "DATASET_PATH = \"long-vicuna-set-lessgpt4all-vicuna13b-processed\"\n",
    "\n",
    "# Training procedure\n",
    "CONTEXT_LENGTH = 512\n",
    "CONTEXT_STEP = 256\n",
    "PRETRAIN_LENGTH = 1024\n",
    "# Model\n",
    "COSINE_KNN_MAX_TEMPORARY_BUFFER_SIZE = 1024\n",
    "REPLACE_LAYER = 21\n",
    "BASE_MODEL = \"../vicuna-13b-GPTQ-4bit-128g\"\n",
    "BASE_MODEL_WEIGHTS = \"../vicuna-13b-GPTQ-4bit-128g/vicuna-13b-4bit-128g.safetensors\"\n",
    "\n",
    "USE_FP16 = True\n",
    "LR_PRETRAIN = 3e-4"
   ]
  },
  {
   "cell_type": "code",
   "execution_count": 3,
   "metadata": {},
   "outputs": [
    {
     "name": "stdout",
     "output_type": "stream",
     "text": [
      "Using Triton implementation.\n"
     ]
    }
   ],
   "source": [
    "_, _, load_llama_model_4bit_low_ram, _, model_to_half, _, _, _, AMPWrapper = import_llama(\n",
    "    use_flash_attention=False,\n",
    "    use_xformers=False,\n",
    "    autograd_4bit_cuda=False,\n",
    "    autograd_4bit_triton=True,\n",
    ")"
   ]
  },
  {
   "attachments": {},
   "cell_type": "markdown",
   "metadata": {},
   "source": [
    "## Data reading"
   ]
  },
  {
   "cell_type": "code",
   "execution_count": 4,
   "metadata": {},
   "outputs": [
    {
     "data": {
      "text/html": [
       "<div>\n",
       "<style scoped>\n",
       "    .dataframe tbody tr th:only-of-type {\n",
       "        vertical-align: middle;\n",
       "    }\n",
       "\n",
       "    .dataframe tbody tr th {\n",
       "        vertical-align: top;\n",
       "    }\n",
       "\n",
       "    .dataframe thead th {\n",
       "        text-align: right;\n",
       "    }\n",
       "</style>\n",
       "<table border=\"1\" class=\"dataframe\">\n",
       "  <thead>\n",
       "    <tr style=\"text-align: right;\">\n",
       "      <th></th>\n",
       "      <th>processed_text</th>\n",
       "      <th>input_ids</th>\n",
       "      <th>length</th>\n",
       "    </tr>\n",
       "  </thead>\n",
       "  <tbody>\n",
       "    <tr>\n",
       "      <th>0</th>\n",
       "      <td>&lt;msg_prompter&gt; Can you write a short introduct...</td>\n",
       "      <td>[529, 7645, 29918, 14032, 29886, 357, 29958, 1...</td>\n",
       "      <td>50</td>\n",
       "    </tr>\n",
       "    <tr>\n",
       "      <th>1</th>\n",
       "      <td>&lt;msg_assistant&gt; \"Monopsony\" refers to a market...</td>\n",
       "      <td>[529, 7645, 29918, 465, 22137, 29958, 376, 718...</td>\n",
       "      <td>351</td>\n",
       "    </tr>\n",
       "    <tr>\n",
       "      <th>2</th>\n",
       "      <td>&lt;msg_prompter&gt; Now explain it to a dog</td>\n",
       "      <td>[529, 7645, 29918, 14032, 29886, 357, 29958, 2...</td>\n",
       "      <td>13</td>\n",
       "    </tr>\n",
       "    <tr>\n",
       "      <th>3</th>\n",
       "      <td>&lt;msg_assistant&gt; Monopsony is a market structur...</td>\n",
       "      <td>[529, 7645, 29918, 465, 22137, 29958, 2598, 45...</td>\n",
       "      <td>238</td>\n",
       "    </tr>\n",
       "    <tr>\n",
       "      <th>4</th>\n",
       "      <td>&lt;msg_prompter&gt; How can one fight back when a m...</td>\n",
       "      <td>[529, 7645, 29918, 14032, 29886, 357, 29958, 1...</td>\n",
       "      <td>22</td>\n",
       "    </tr>\n",
       "  </tbody>\n",
       "</table>\n",
       "</div>"
      ],
      "text/plain": [
       "                                      processed_text   \n",
       "0  <msg_prompter> Can you write a short introduct...  \\\n",
       "1  <msg_assistant> \"Monopsony\" refers to a market...   \n",
       "2             <msg_prompter> Now explain it to a dog   \n",
       "3  <msg_assistant> Monopsony is a market structur...   \n",
       "4  <msg_prompter> How can one fight back when a m...   \n",
       "\n",
       "                                           input_ids  length  \n",
       "0  [529, 7645, 29918, 14032, 29886, 357, 29958, 1...      50  \n",
       "1  [529, 7645, 29918, 465, 22137, 29958, 376, 718...     351  \n",
       "2  [529, 7645, 29918, 14032, 29886, 357, 29958, 2...      13  \n",
       "3  [529, 7645, 29918, 465, 22137, 29958, 2598, 45...     238  \n",
       "4  [529, 7645, 29918, 14032, 29886, 357, 29958, 1...      22  "
      ]
     },
     "execution_count": 4,
     "metadata": {},
     "output_type": "execute_result"
    }
   ],
   "source": [
    "df_texts = pd.read_pickle(os.path.join(DATASET_PATH, \"texts.pkl\"))\n",
    "df_texts.head()"
   ]
  },
  {
   "cell_type": "code",
   "execution_count": 5,
   "metadata": {},
   "outputs": [
    {
     "data": {
      "text/html": [
       "<div>\n",
       "<style scoped>\n",
       "    .dataframe tbody tr th:only-of-type {\n",
       "        vertical-align: middle;\n",
       "    }\n",
       "\n",
       "    .dataframe tbody tr th {\n",
       "        vertical-align: top;\n",
       "    }\n",
       "\n",
       "    .dataframe thead th {\n",
       "        text-align: right;\n",
       "    }\n",
       "</style>\n",
       "<table border=\"1\" class=\"dataframe\">\n",
       "  <thead>\n",
       "    <tr style=\"text-align: right;\">\n",
       "      <th></th>\n",
       "      <th>indices</th>\n",
       "      <th>source</th>\n",
       "      <th>session_length</th>\n",
       "    </tr>\n",
       "  </thead>\n",
       "  <tbody>\n",
       "    <tr>\n",
       "      <th>0</th>\n",
       "      <td>[0, 1, 2]</td>\n",
       "      <td>openassistant</td>\n",
       "      <td>414</td>\n",
       "    </tr>\n",
       "    <tr>\n",
       "      <th>1</th>\n",
       "      <td>[0, 3, 4]</td>\n",
       "      <td>openassistant</td>\n",
       "      <td>310</td>\n",
       "    </tr>\n",
       "    <tr>\n",
       "      <th>2</th>\n",
       "      <td>[0, 5, 6, 7]</td>\n",
       "      <td>openassistant</td>\n",
       "      <td>426</td>\n",
       "    </tr>\n",
       "    <tr>\n",
       "      <th>3</th>\n",
       "      <td>[0, 5, 6, 8]</td>\n",
       "      <td>openassistant</td>\n",
       "      <td>595</td>\n",
       "    </tr>\n",
       "    <tr>\n",
       "      <th>4</th>\n",
       "      <td>[0, 5, 6, 9]</td>\n",
       "      <td>openassistant</td>\n",
       "      <td>334</td>\n",
       "    </tr>\n",
       "  </tbody>\n",
       "</table>\n",
       "</div>"
      ],
      "text/plain": [
       "        indices         source  session_length\n",
       "0     [0, 1, 2]  openassistant             414\n",
       "1     [0, 3, 4]  openassistant             310\n",
       "2  [0, 5, 6, 7]  openassistant             426\n",
       "3  [0, 5, 6, 8]  openassistant             595\n",
       "4  [0, 5, 6, 9]  openassistant             334"
      ]
     },
     "execution_count": 5,
     "metadata": {},
     "output_type": "execute_result"
    }
   ],
   "source": [
    "df_indices_train = pd.read_pickle(os.path.join(DATASET_PATH, \"indices-train.pkl\"))\n",
    "df_indices_train.head()"
   ]
  },
  {
   "cell_type": "code",
   "execution_count": 6,
   "metadata": {},
   "outputs": [
    {
     "data": {
      "text/html": [
       "<div>\n",
       "<style scoped>\n",
       "    .dataframe tbody tr th:only-of-type {\n",
       "        vertical-align: middle;\n",
       "    }\n",
       "\n",
       "    .dataframe tbody tr th {\n",
       "        vertical-align: top;\n",
       "    }\n",
       "\n",
       "    .dataframe thead th {\n",
       "        text-align: right;\n",
       "    }\n",
       "</style>\n",
       "<table border=\"1\" class=\"dataframe\">\n",
       "  <thead>\n",
       "    <tr style=\"text-align: right;\">\n",
       "      <th></th>\n",
       "      <th>indices</th>\n",
       "      <th>source</th>\n",
       "      <th>session_length</th>\n",
       "    </tr>\n",
       "  </thead>\n",
       "  <tbody>\n",
       "    <tr>\n",
       "      <th>0</th>\n",
       "      <td>[82483, 82484]</td>\n",
       "      <td>openassistant</td>\n",
       "      <td>302</td>\n",
       "    </tr>\n",
       "    <tr>\n",
       "      <th>1</th>\n",
       "      <td>[82483, 82485]</td>\n",
       "      <td>openassistant</td>\n",
       "      <td>218</td>\n",
       "    </tr>\n",
       "    <tr>\n",
       "      <th>2</th>\n",
       "      <td>[82483, 82486]</td>\n",
       "      <td>openassistant</td>\n",
       "      <td>79</td>\n",
       "    </tr>\n",
       "    <tr>\n",
       "      <th>3</th>\n",
       "      <td>[82487, 82488]</td>\n",
       "      <td>openassistant</td>\n",
       "      <td>561</td>\n",
       "    </tr>\n",
       "    <tr>\n",
       "      <th>4</th>\n",
       "      <td>[82487, 82489, 82490, 82491]</td>\n",
       "      <td>openassistant</td>\n",
       "      <td>546</td>\n",
       "    </tr>\n",
       "  </tbody>\n",
       "</table>\n",
       "</div>"
      ],
      "text/plain": [
       "                        indices         source  session_length\n",
       "0                [82483, 82484]  openassistant             302\n",
       "1                [82483, 82485]  openassistant             218\n",
       "2                [82483, 82486]  openassistant              79\n",
       "3                [82487, 82488]  openassistant             561\n",
       "4  [82487, 82489, 82490, 82491]  openassistant             546"
      ]
     },
     "execution_count": 6,
     "metadata": {},
     "output_type": "execute_result"
    }
   ],
   "source": [
    "df_indices_validation = pd.read_pickle(os.path.join(DATASET_PATH, \"indices-validation.pkl\"))\n",
    "df_indices_validation.head()"
   ]
  },
  {
   "cell_type": "code",
   "execution_count": 7,
   "metadata": {},
   "outputs": [
    {
     "data": {
      "text/html": [
       "<div>\n",
       "<style scoped>\n",
       "    .dataframe tbody tr th:only-of-type {\n",
       "        vertical-align: middle;\n",
       "    }\n",
       "\n",
       "    .dataframe tbody tr th {\n",
       "        vertical-align: top;\n",
       "    }\n",
       "\n",
       "    .dataframe thead th {\n",
       "        text-align: right;\n",
       "    }\n",
       "</style>\n",
       "<table border=\"1\" class=\"dataframe\">\n",
       "  <thead>\n",
       "    <tr style=\"text-align: right;\">\n",
       "      <th></th>\n",
       "      <th>indices</th>\n",
       "      <th>source</th>\n",
       "      <th>session_length</th>\n",
       "    </tr>\n",
       "  </thead>\n",
       "  <tbody>\n",
       "    <tr>\n",
       "      <th>3</th>\n",
       "      <td>[82487, 82488]</td>\n",
       "      <td>openassistant</td>\n",
       "      <td>561</td>\n",
       "    </tr>\n",
       "    <tr>\n",
       "      <th>4</th>\n",
       "      <td>[82487, 82489, 82490, 82491]</td>\n",
       "      <td>openassistant</td>\n",
       "      <td>546</td>\n",
       "    </tr>\n",
       "    <tr>\n",
       "      <th>5</th>\n",
       "      <td>[82487, 82489, 82490, 82492]</td>\n",
       "      <td>openassistant</td>\n",
       "      <td>570</td>\n",
       "    </tr>\n",
       "    <tr>\n",
       "      <th>6</th>\n",
       "      <td>[82487, 82489, 82490, 82493]</td>\n",
       "      <td>openassistant</td>\n",
       "      <td>740</td>\n",
       "    </tr>\n",
       "    <tr>\n",
       "      <th>7</th>\n",
       "      <td>[82487, 82494, 82495, 82496]</td>\n",
       "      <td>openassistant</td>\n",
       "      <td>644</td>\n",
       "    </tr>\n",
       "  </tbody>\n",
       "</table>\n",
       "</div>"
      ],
      "text/plain": [
       "                        indices         source  session_length\n",
       "3                [82487, 82488]  openassistant             561\n",
       "4  [82487, 82489, 82490, 82491]  openassistant             546\n",
       "5  [82487, 82489, 82490, 82492]  openassistant             570\n",
       "6  [82487, 82489, 82490, 82493]  openassistant             740\n",
       "7  [82487, 82494, 82495, 82496]  openassistant             644"
      ]
     },
     "execution_count": 7,
     "metadata": {},
     "output_type": "execute_result"
    }
   ],
   "source": [
    "mask = (df_indices_validation[\"session_length\"] > CONTEXT_LENGTH) & (df_indices_validation[\"session_length\"] <= PRETRAIN_LENGTH)\n",
    "df_indices_validation = df_indices_validation.loc[mask]\n",
    "df_indices_validation.head()"
   ]
  },
  {
   "attachments": {},
   "cell_type": "markdown",
   "metadata": {},
   "source": [
    "## Model preparation"
   ]
  },
  {
   "cell_type": "code",
   "execution_count": 8,
   "metadata": {},
   "outputs": [
    {
     "name": "stdout",
     "output_type": "stream",
     "text": [
      "Loading Model ...\n"
     ]
    },
    {
     "name": "stderr",
     "output_type": "stream",
     "text": [
      "The safetensors archive passed at ../vicuna-13b-GPTQ-4bit-128g/vicuna-13b-4bit-128g.safetensors does not contain metadata. Make sure to save your model with the `save_pretrained` method. Defaulting to 'pt' metadata.\n"
     ]
    },
    {
     "name": "stdout",
     "output_type": "stream",
     "text": [
      "Loaded the model in 3.58 seconds.\n",
      "Converted as Half.\n"
     ]
    },
    {
     "data": {
      "text/plain": [
       "<alpaca_lora_4bit.amp_wrapper.AMPWrapper at 0x7fdd1367e910>"
      ]
     },
     "execution_count": 8,
     "metadata": {},
     "output_type": "execute_result"
    }
   ],
   "source": [
    "model, tokenizer = load_llama_model_4bit_low_ram(\n",
    "    config_path=BASE_MODEL,\n",
    "    model_path=BASE_MODEL_WEIGHTS,\n",
    "    groupsize=128,\n",
    "    is_v1_model=False,\n",
    ")\n",
    "tokenizer.pad_token_id = 0\n",
    "\n",
    "model_to_half(model)\n",
    "wrapper = AMPWrapper(model)\n",
    "wrapper.apply_forward()\n",
    "wrapper"
   ]
  },
  {
   "attachments": {},
   "cell_type": "markdown",
   "metadata": {},
   "source": [
    "## Common functions"
   ]
  },
  {
   "cell_type": "code",
   "execution_count": 9,
   "metadata": {},
   "outputs": [],
   "source": [
    "def get_perplexity(input_ids, inference_function):\n",
    "    with torch.no_grad():\n",
    "        prediction_proba = inference_function(input_ids).detach().cpu().numpy()\n",
    "        labels = input_ids[0, 1:]\n",
    "        predicted_tokens = prediction_proba[0, :-1]\n",
    "        label_token_probas = np.array([predicted_tokens[i, token] for i, token in enumerate(labels)])\n",
    "        label_token_probas_normed = label_token_probas ** (1/len(label_token_probas))\n",
    "        result = 1.0\n",
    "        for item in label_token_probas_normed:\n",
    "            if item != 0: # For some technical tokens (part of prompts, not data) original vicuna returned exactly zero probability\n",
    "                result *= item\n",
    "    return 1.0 / result"
   ]
  },
  {
   "attachments": {},
   "cell_type": "markdown",
   "metadata": {},
   "source": [
    "## Basic inference mode"
   ]
  },
  {
   "cell_type": "code",
   "execution_count": 10,
   "metadata": {},
   "outputs": [],
   "source": [
    "def make_basic_inference_function(model):\n",
    "    def _func(input_ids):\n",
    "        model.eval()\n",
    "        prediction = model(input_ids=input_ids)\n",
    "        prediction_proba = softmax(prediction.logits, dim=-1)\n",
    "        return prediction_proba\n",
    "\n",
    "    return _func"
   ]
  },
  {
   "cell_type": "code",
   "execution_count": 11,
   "metadata": {},
   "outputs": [
    {
     "name": "stderr",
     "output_type": "stream",
     "text": [
      "100%|██████████| 1130/1130 [37:34<00:00,  2.00s/it]\n"
     ]
    }
   ],
   "source": [
    "with torch.no_grad():\n",
    "    perplexities_normal = []\n",
    "    for _, row in tqdm(df_indices_validation.iterrows(), total=df_indices_validation.shape[0]):\n",
    "        df_row_texts = df_texts.loc[row[\"indices\"]]\n",
    "        text = \"\\n\".join(df_row_texts[\"processed_text\"])\n",
    "        input_ids = torch.LongTensor(tokenizer(text)[\"input_ids\"]).view((1, -1)).to(model.device)\n",
    "        perplexity = get_perplexity(input_ids, make_basic_inference_function(model))\n",
    "        perplexities_normal.append(perplexity)"
   ]
  },
  {
   "cell_type": "code",
   "execution_count": 12,
   "metadata": {},
   "outputs": [
    {
     "data": {
      "text/plain": [
       "torch.Size([1, 856])"
      ]
     },
     "execution_count": 12,
     "metadata": {},
     "output_type": "execute_result"
    }
   ],
   "source": [
    "input_ids.shape"
   ]
  },
  {
   "cell_type": "code",
   "execution_count": 13,
   "metadata": {},
   "outputs": [
    {
     "data": {
      "text/plain": [
       "5.953638991949186"
      ]
     },
     "execution_count": 13,
     "metadata": {},
     "output_type": "execute_result"
    }
   ],
   "source": [
    "np.array(perplexities_normal).mean()"
   ]
  },
  {
   "cell_type": "code",
   "execution_count": 14,
   "metadata": {},
   "outputs": [
    {
     "data": {
      "text/plain": [
       "<Axes: >"
      ]
     },
     "execution_count": 14,
     "metadata": {},
     "output_type": "execute_result"
    },
    {
     "data": {
      "image/png": "[encoded data removed]",
      "text/plain": [
       "<Figure size 640x480 with 1 Axes>"
      ]
     },
     "metadata": {},
     "output_type": "display_data"
    }
   ],
   "source": [
    "pd.Series(perplexities_normal).hist()"
   ]
  },
  {
   "attachments": {},
   "cell_type": "markdown",
   "metadata": {},
   "source": [
    "## Short context window + shifting"
   ]
  },
  {
   "cell_type": "code",
   "execution_count": 15,
   "metadata": {},
   "outputs": [],
   "source": [
    "def make_sliding_inference_function(model):\n",
    "    def _func(input_ids):\n",
    "        model.eval()\n",
    "        start = 0\n",
    "        probas = {}\n",
    "        while True:\n",
    "            end = start + CONTEXT_LENGTH\n",
    "            chunk_input_ids = input_ids[:, start:end]\n",
    "            end_real = start + chunk_input_ids.shape[1]\n",
    "            chunk_prediction = model(input_ids=chunk_input_ids)\n",
    "            chunk_prediction_proba = softmax(chunk_prediction.logits, dim=-1).detach().cpu().numpy()\n",
    "            added = 0\n",
    "            for i in range(start, end_real):\n",
    "                if i in probas:\n",
    "                    continue\n",
    "                probas[i] = chunk_prediction_proba[0, i - start]\n",
    "                added += 1\n",
    "            start += CONTEXT_STEP\n",
    "            if added == 0:\n",
    "                break\n",
    "        prediction_proba = []\n",
    "        for i in range(len(probas)):\n",
    "            prediction_proba.append(probas[i])\n",
    "        prediction_proba = np.array([prediction_proba])\n",
    "        return torch.FloatTensor(prediction_proba)\n",
    "    \n",
    "    return _func"
   ]
  },
  {
   "cell_type": "code",
   "execution_count": 16,
   "metadata": {},
   "outputs": [
    {
     "name": "stderr",
     "output_type": "stream",
     "text": [
      "100%|██████████| 1130/1130 [1:02:12<00:00,  3.30s/it]\n"
     ]
    }
   ],
   "source": [
    "with torch.no_grad():\n",
    "    perplexities_shifted = []\n",
    "    for _, row in tqdm(df_indices_validation.iterrows(), total=df_indices_validation.shape[0]):\n",
    "        df_row_texts = df_texts.loc[row[\"indices\"]]\n",
    "        text = \"\\n\".join(df_row_texts[\"processed_text\"])\n",
    "        input_ids = torch.LongTensor(tokenizer(text)[\"input_ids\"]).view((1, -1)).to(model.device)\n",
    "        perplexity = get_perplexity(input_ids, make_sliding_inference_function(model))\n",
    "        perplexities_shifted.append(perplexity)"
   ]
  },
  {
   "cell_type": "code",
   "execution_count": 17,
   "metadata": {},
   "outputs": [
    {
     "data": {
      "text/plain": [
       "6.285509805678134"
      ]
     },
     "execution_count": 17,
     "metadata": {},
     "output_type": "execute_result"
    }
   ],
   "source": [
    "np.array(perplexities_shifted).mean()"
   ]
  },
  {
   "cell_type": "code",
   "execution_count": 18,
   "metadata": {},
   "outputs": [
    {
     "data": {
      "text/plain": [
       "<Axes: >"
      ]
     },
     "execution_count": 18,
     "metadata": {},
     "output_type": "execute_result"
    },
    {
     "data": {
      "image/png": "[encoded data removed]",
      "text/plain": [
       "<Figure size 640x480 with 1 Axes>"
      ]
     },
     "metadata": {},
     "output_type": "display_data"
    }
   ],
   "source": [
    "pd.Series(perplexities_shifted).hist()"
   ]
  },
  {
   "attachments": {},
   "cell_type": "markdown",
   "metadata": {},
   "source": [
    "## Sliding window + memory"
   ]
  },
  {
   "cell_type": "code",
   "execution_count": 19,
   "metadata": {},
   "outputs": [],
   "source": [
    "model.cpu()\n",
    "gc.collect()\n",
    "torch.cuda.empty_cache()"
   ]
  },
  {
   "cell_type": "code",
   "execution_count": 20,
   "metadata": {},
   "outputs": [
    {
     "name": "stdout",
     "output_type": "stream",
     "text": [
      "Loading Model ...\n"
     ]
    },
    {
     "name": "stderr",
     "output_type": "stream",
     "text": [
      "The safetensors archive passed at ../vicuna-13b-GPTQ-4bit-128g/vicuna-13b-4bit-128g.safetensors does not contain metadata. Make sure to save your model with the `save_pretrained` method. Defaulting to 'pt' metadata.\n"
     ]
    },
    {
     "name": "stdout",
     "output_type": "stream",
     "text": [
      "Loaded the model in 2.89 seconds.\n"
     ]
    }
   ],
   "source": [
    "model, tokenizer = load_llama_model_4bit_low_ram(\n",
    "    config_path=BASE_MODEL,\n",
    "    model_path=BASE_MODEL_WEIGHTS,\n",
    "    groupsize=128,\n",
    "    is_v1_model=False,\n",
    ")\n",
    "tokenizer.pad_token_id = 0\n",
    "\n",
    "context_choice = ContextChoiceLinear(model.config.num_attention_heads,\n",
    "                                     model.config.hidden_size)\n",
    "memory = CosineKnnMemoryCollection(COSINE_KNN_MAX_TEMPORARY_BUFFER_SIZE,\n",
    "                                   remember_until_position=0)\n",
    "model.model = replace_llama_layer_with_memory(\n",
    "    model.model,\n",
    "    REPLACE_LAYER,\n",
    "    context_choice,\n",
    "    memory,\n",
    ")\n",
    "lora_config = LoraConfig(\n",
    "    r=8,\n",
    "    lora_alpha=16,\n",
    "    target_modules=[\"q_proj\", \"v_proj\"],\n",
    "    lora_dropout=0.0,\n",
    "    bias=\"none\",\n",
    "    task_type=\"CAUSAL_LM\",\n",
    ")\n",
    "lora_model = get_peft_model(model, lora_config)\n",
    "lora_model = lora_model_zeros_and_scales_to_half(lora_model)\n",
    "lora_model.config.use_cache = False\n",
    "wrapper = AMPWrapper(lora_model)\n",
    "wrapper.apply_forward()"
   ]
  },
  {
   "cell_type": "code",
   "execution_count": null,
   "metadata": {},
   "outputs": [],
   "source": [
    "lora_model.cpu()\n",
    "gc.collect()\n",
    "torch.cuda.empty_cache()"
   ]
  },
  {
   "cell_type": "code",
   "execution_count": 24,
   "metadata": {},
   "outputs": [
    {
     "data": {
      "text/plain": [
       "PeftModelForCausalLM(\n",
       "  (base_model): GPTQLoraModel(\n",
       "    (model): LlamaForCausalLM(\n",
       "      (model): LlamaModel(\n",
       "        (embed_tokens): Embedding(32001, 5120, padding_idx=0)\n",
       "        (layers): ModuleList(\n",
       "          (0-20): 21 x LlamaDecoderLayer(\n",
       "            (self_attn): LlamaAttention(\n",
       "              (q_proj): Linear4bitLt(\n",
       "                (lora_dropout): ModuleDict(\n",
       "                  (default): Identity()\n",
       "                )\n",
       "                (lora_A): ModuleDict(\n",
       "                  (default): Linear(in_features=5120, out_features=8, bias=False)\n",
       "                )\n",
       "                (lora_B): ModuleDict(\n",
       "                  (default): Linear(in_features=8, out_features=5120, bias=False)\n",
       "                )\n",
       "              )\n",
       "              (k_proj): Autograd4bitQuantLinear()\n",
       "              (v_proj): Linear4bitLt(\n",
       "                (lora_dropout): ModuleDict(\n",
       "                  (default): Identity()\n",
       "                )\n",
       "                (lora_A): ModuleDict(\n",
       "                  (default): Linear(in_features=5120, out_features=8, bias=False)\n",
       "                )\n",
       "                (lora_B): ModuleDict(\n",
       "                  (default): Linear(in_features=8, out_features=5120, bias=False)\n",
       "                )\n",
       "              )\n",
       "              (o_proj): Autograd4bitQuantLinear()\n",
       "              (rotary_emb): LlamaRotaryEmbedding()\n",
       "            )\n",
       "            (mlp): LlamaMLP(\n",
       "              (gate_proj): Autograd4bitQuantLinear()\n",
       "              (down_proj): Autograd4bitQuantLinear()\n",
       "              (up_proj): Autograd4bitQuantLinear()\n",
       "              (act_fn): SiLUActivation()\n",
       "            )\n",
       "            (input_layernorm): LlamaRMSNorm()\n",
       "            (post_attention_layernorm): LlamaRMSNorm()\n",
       "          )\n",
       "          (21): MemorizingLlamaDecoderLayer(\n",
       "            (module): LlamaDecoderLayer(\n",
       "              (self_attn): LlamaAttention(\n",
       "                (q_proj): Linear4bitLt(\n",
       "                  (lora_dropout): ModuleDict(\n",
       "                    (default): Identity()\n",
       "                  )\n",
       "                  (lora_A): ModuleDict(\n",
       "                    (default): Linear(in_features=5120, out_features=8, bias=False)\n",
       "                  )\n",
       "                  (lora_B): ModuleDict(\n",
       "                    (default): Linear(in_features=8, out_features=5120, bias=False)\n",
       "                  )\n",
       "                )\n",
       "                (k_proj): Autograd4bitQuantLinear()\n",
       "                (v_proj): Linear4bitLt(\n",
       "                  (lora_dropout): ModuleDict(\n",
       "                    (default): Identity()\n",
       "                  )\n",
       "                  (lora_A): ModuleDict(\n",
       "                    (default): Linear(in_features=5120, out_features=8, bias=False)\n",
       "                  )\n",
       "                  (lora_B): ModuleDict(\n",
       "                    (default): Linear(in_features=8, out_features=5120, bias=False)\n",
       "                  )\n",
       "                )\n",
       "                (o_proj): Autograd4bitQuantLinear()\n",
       "                (rotary_emb): LlamaRotaryEmbedding()\n",
       "              )\n",
       "              (mlp): LlamaMLP(\n",
       "                (gate_proj): Autograd4bitQuantLinear()\n",
       "                (down_proj): Autograd4bitQuantLinear()\n",
       "                (up_proj): Autograd4bitQuantLinear()\n",
       "                (act_fn): SiLUActivation()\n",
       "              )\n",
       "              (input_layernorm): LlamaRMSNorm()\n",
       "              (post_attention_layernorm): LlamaRMSNorm()\n",
       "            )\n",
       "            (context_choice): ContextChoiceLinear()\n",
       "          )\n",
       "          (22-39): 18 x LlamaDecoderLayer(\n",
       "            (self_attn): LlamaAttention(\n",
       "              (q_proj): Linear4bitLt(\n",
       "                (lora_dropout): ModuleDict(\n",
       "                  (default): Identity()\n",
       "                )\n",
       "                (lora_A): ModuleDict(\n",
       "                  (default): Linear(in_features=5120, out_features=8, bias=False)\n",
       "                )\n",
       "                (lora_B): ModuleDict(\n",
       "                  (default): Linear(in_features=8, out_features=5120, bias=False)\n",
       "                )\n",
       "              )\n",
       "              (k_proj): Autograd4bitQuantLinear()\n",
       "              (v_proj): Linear4bitLt(\n",
       "                (lora_dropout): ModuleDict(\n",
       "                  (default): Identity()\n",
       "                )\n",
       "                (lora_A): ModuleDict(\n",
       "                  (default): Linear(in_features=5120, out_features=8, bias=False)\n",
       "                )\n",
       "                (lora_B): ModuleDict(\n",
       "                  (default): Linear(in_features=8, out_features=5120, bias=False)\n",
       "                )\n",
       "              )\n",
       "              (o_proj): Autograd4bitQuantLinear()\n",
       "              (rotary_emb): LlamaRotaryEmbedding()\n",
       "            )\n",
       "            (mlp): LlamaMLP(\n",
       "              (gate_proj): Autograd4bitQuantLinear()\n",
       "              (down_proj): Autograd4bitQuantLinear()\n",
       "              (up_proj): Autograd4bitQuantLinear()\n",
       "              (act_fn): SiLUActivation()\n",
       "            )\n",
       "            (input_layernorm): LlamaRMSNorm()\n",
       "            (post_attention_layernorm): LlamaRMSNorm()\n",
       "          )\n",
       "        )\n",
       "        (norm): LlamaRMSNorm()\n",
       "      )\n",
       "      (lm_head): Linear(in_features=5120, out_features=32001, bias=False)\n",
       "    )\n",
       "  )\n",
       ")"
      ]
     },
     "execution_count": 24,
     "metadata": {},
     "output_type": "execute_result"
    }
   ],
   "source": [
    "lora_model.load_state_dict(torch.load(\n",
    "    \"long-vicuna--pretrain--state-dict.pth\",\n",
    "    map_location=torch.device(\"cpu\")\n",
    "))\n",
    "lora_model.cuda()"
   ]
  },
  {
   "cell_type": "code",
   "execution_count": 25,
   "metadata": {},
   "outputs": [
    {
     "name": "stderr",
     "output_type": "stream",
     "text": [
      "100%|██████████| 1130/1130 [1:03:43<00:00,  3.38s/it]\n"
     ]
    }
   ],
   "source": [
    "with torch.no_grad():\n",
    "    perplexities_memory = []\n",
    "    for _, row in tqdm(df_indices_validation.iterrows(), total=df_indices_validation.shape[0]):\n",
    "        df_row_texts = df_texts.loc[row[\"indices\"]]\n",
    "        input_ids = torch.cat([\n",
    "             torch.LongTensor(data.astype(np.int32))\n",
    "             for data in df_row_texts[\"input_ids\"]\n",
    "        ], dim=0)\n",
    "        memory.reset()\n",
    "        memory.remember_until_position = PRETRAIN_LENGTH\n",
    "        input_ids = input_ids.view((1, -1)).to(lora_model.device)\n",
    "        perplexity = get_perplexity(input_ids, make_sliding_inference_function(lora_model))\n",
    "        perplexities_memory.append(perplexity)"
   ]
  },
  {
   "cell_type": "code",
   "execution_count": 26,
   "metadata": {},
   "outputs": [
    {
     "data": {
      "text/plain": [
       "4.110597224135854"
      ]
     },
     "execution_count": 26,
     "metadata": {},
     "output_type": "execute_result"
    }
   ],
   "source": [
    "np.array(perplexities_memory).mean()"
   ]
  },
  {
   "cell_type": "code",
   "execution_count": 27,
   "metadata": {},
   "outputs": [
    {
     "data": {
      "text/plain": [
       "<Axes: >"
      ]
     },
     "execution_count": 27,
     "metadata": {},
     "output_type": "execute_result"
    },
    {
     "data": {
      "image/png": "[encoded data removed]",
      "text/plain": [
       "<Figure size 640x480 with 1 Axes>"
      ]
     },
     "metadata": {},
     "output_type": "display_data"
    }
   ],
   "source": [
    "pd.Series(perplexities_memory).hist()"
   ]
  }
 ],
 "metadata": {
  "kernelspec": {
   "display_name": "longdocchat",
   "language": "python",
   "name": "python3"
  },
  "language_info": {
   "codemirror_mode": {
    "name": "ipython",
    "version": 3
   },
   "file_extension": ".py",
   "mimetype": "text/x-python",
   "name": "python",
   "nbconvert_exporter": "python",
   "pygments_lexer": "ipython3",
   "version": "3.11.3"
  },
  "orig_nbformat": 4
 },
 "nbformat": 4,
 "nbformat_minor": 2
}
