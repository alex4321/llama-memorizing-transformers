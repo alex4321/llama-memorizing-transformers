{
 "cells": [
  {
   "attachments": {},
   "cell_type": "markdown",
   "metadata": {},
   "source": [
    "# Memory mechanism"
   ]
  },
  {
   "attachments": {},
   "cell_type": "markdown",
   "metadata": {},
   "source": [
    "## Implementation"
   ]
  },
  {
   "attachments": {},
   "cell_type": "markdown",
   "metadata": {},
   "source": [
    "The \"memorizing transformer\" paper introduce knn-attention mix which works the following way:\n",
    "\n",
    "```\n",
    "knn_attention(embeddings) = attention(\n",
    "    knn(embeddingd_storage, embeddings) * weight_knn +\n",
    "    embeddings * weight_local\n",
    ")\n",
    "```\n",
    "\n",
    "Where knn is nearest-neightbours embeddings extraction and after each inference step the corresponding `embeddings` are added to the `embeddings_storage`"
   ]
  },
  {
   "cell_type": "code",
   "execution_count": 1,
   "metadata": {},
   "outputs": [],
   "source": [
    "#| default_exp memory_collection"
   ]
  },
  {
   "cell_type": "code",
   "execution_count": 2,
   "metadata": {},
   "outputs": [],
   "source": [
    "#| export\n",
    "from __future__ import annotations\n",
    "import os\n",
    "from typing import Union, List\n",
    "import pickle\n",
    "import numpy as np\n",
    "import pandas as pd\n",
    "import torch\n",
    "from sklearn.neighbors import NearestNeighbors"
   ]
  },
  {
   "cell_type": "code",
   "execution_count": 3,
   "metadata": {},
   "outputs": [],
   "source": [
    "#| export\n",
    "class BaseMemoryCollection:\n",
    "    def __init__(self, top_k: int, remember_until_position: int = 0):\n",
    "        self.top_k = top_k\n",
    "        self.remember_until_position = remember_until_position\n",
    "        self._local2global_position_offset = 0\n",
    "        self._remembered_tokens = 0\n",
    "\n",
    "    def reset(self) -> None:\n",
    "        \"\"\"\n",
    "        Reset memory\n",
    "        \"\"\"\n",
    "        self._local2global_position_offset = 0\n",
    "        self._remembered_tokens = 0\n",
    "    \n",
    "    def get(self, inputs: torch.FloatTensor) -> torch.FloatTensor:\n",
    "        \"\"\"\n",
    "        Get relevant \"memories\".\n",
    "        :param inputs: (Individual) sequence embedding matrix (2d array)\n",
    "        \"\"\"\n",
    "        raise NotImplementedError()\n",
    "    \n",
    "    def _check_position_ids_sequential(self, local_position_ids: torch.LongTensor) -> None:\n",
    "        \"\"\"\n",
    "        Check if local_position_ids is a sequential vector\n",
    "        :param local_position_ids: position ids\n",
    "        \"\"\"\n",
    "        assert len(local_position_ids.shape) == 1\n",
    "        with torch.no_grad():\n",
    "            if local_position_ids.shape[0]:\n",
    "                assert local_position_ids[0] == 0\n",
    "            id_diff = local_position_ids[1:] - local_position_ids[:-1]\n",
    "            assert torch.all(id_diff == 1)\n",
    "    \n",
    "    def add(self, inputs: torch.FloatTensor, local_position_ids: torch.LongTensor) -> None:\n",
    "        \"\"\"\n",
    "        Remember stuff.\n",
    "        But only the part which (global) id <= self.remember_until_position\n",
    "        \n",
    "        :param inputs: (Individual) sequence embedding matrix (2d array)\n",
    "        :param local_position_ids: (Individual) sequence token ids (inside the chunk processed by transformer)\n",
    "        \"\"\"\n",
    "        self._check_position_ids_sequential(local_position_ids)\n",
    "        assert len(inputs.shape) == 2\n",
    "        assert inputs.shape[0] == local_position_ids.shape[0]\n",
    "        with torch.no_grad():\n",
    "            global_position_ids = self._local2global_position_offset + local_position_ids\n",
    "            assert global_position_ids[0] <= self._remembered_tokens\n",
    "            remember_mask = (global_position_ids < self.remember_until_position) & (global_position_ids >= self._remembered_tokens)\n",
    "            remember_inputs = inputs.masked_select(remember_mask.unsqueeze(-1))\\\n",
    "                .view((-1, inputs.shape[-1]))\n",
    "        tokens_to_remember = remember_inputs.shape[0]\n",
    "        self._add_filtered(remember_inputs)\n",
    "        self._remembered_tokens += tokens_to_remember\n",
    "        self._local2global_position_offset += tokens_to_remember\n",
    "    \n",
    "    def _add_filtered(self, inputs: torch.FloatTensor) -> None:\n",
    "        \"\"\"\n",
    "        Remember the inputs embeddings\n",
    "        :param inputs: (Individual) sequence embedding matrix (2d array)\n",
    "        \"\"\"\n",
    "        raise NotImplementedError()\n",
    "    \n",
    "    def save(self, directory: str) -> None:\n",
    "        \"\"\"\n",
    "        Save memory state\n",
    "        \"\"\"\n",
    "        raise NotImplementedError()\n",
    "    \n",
    "    @staticmethod\n",
    "    def load(directory: str) -> BaseMemoryCollection:\n",
    "        \"\"\"\n",
    "        Load memory state\n",
    "        \"\"\"\n",
    "        raise NotImplementedError()"
   ]
  },
  {
   "cell_type": "code",
   "execution_count": 4,
   "metadata": {},
   "outputs": [],
   "source": [
    "#| export\n",
    "class CosineKnnMemoryCollection(BaseMemoryCollection):\n",
    "    def __init__(self, top_k: int, max_temporary_buffer_size: int, remember_until_position: int = 0) -> None:\n",
    "        super().__init__(top_k, remember_until_position)\n",
    "        self.max_temporary_buffer_size = max_temporary_buffer_size\n",
    "        self.knns = []\n",
    "        self.temporary_buffer = []\n",
    "        self.vectors = []\n",
    "        self._buffer_knn = None\n",
    "\n",
    "    def reset(self) -> None:\n",
    "        super().reset()\n",
    "        self.knns = []\n",
    "        self.temporary_buffer = []\n",
    "        self.vectors = []\n",
    "        self._buffer_knn = None\n",
    "\n",
    "    def _embeddings_numpy(self, embeddings: Union[np.ndarray, List[np.ndarray]]) -> np.ndarray:\n",
    "        if isinstance(embeddings, list):\n",
    "            return np.array(embeddings)\n",
    "        return embeddings\n",
    "    \n",
    "    def _norm(self, inputs: np.ndarray) -> np.ndarray:\n",
    "        embedding_dim = inputs.shape[-1]\n",
    "        \n",
    "        # sqrt(embedding_dim * (x^2)) = 1.0, x>0\n",
    "        # embedding_dim * x^2 = 1.0, x>0\n",
    "        # x^2 = 1/embedding_dim, x>0\n",
    "        # x = 1/sqrt(embedding_dim)\n",
    "        filler_dim_value = 1 / np.sqrt(embedding_dim)\n",
    "\n",
    "        norm = np.sqrt((inputs ** 2).sum(axis=-1, keepdims=True))\n",
    "        \n",
    "        inputs_normed = inputs / norm\n",
    "        inputs_normed[norm[:, 0] == 0] = filler_dim_value\n",
    "        \n",
    "        return inputs_normed\n",
    "\n",
    "    def _bruteforce_knn(self, embeddings, n_jobs=1) -> NearestNeighbors:\n",
    "        # Cosine similarity and L2 distance on normed vectors have 1.0 corellation\n",
    "        # Minkowski metric with p=2 is same as L2\n",
    "        nn = NearestNeighbors(n_neighbors=self.top_k, algorithm=\"brute\", metric=\"minkowski\", p=2, n_jobs=n_jobs)\n",
    "        nn.fit(self._norm(self._embeddings_numpy(embeddings)))\n",
    "        return nn\n",
    "    \n",
    "    def _knn(self, embeddings, n_jobs=-1) -> NearestNeighbors:\n",
    "        # Cosine similarity and L2 distance on normed vectors have 1.0 corellation (spearman)\n",
    "        # Minkowski metric with p=2 is same as L2\n",
    "        nn = NearestNeighbors(n_neighbors=self.top_k, algorithm=\"auto\", metric=\"minkowski\", p=2, n_jobs=n_jobs)\n",
    "        nn.fit(self._norm(self._embeddings_numpy(embeddings)))\n",
    "        return nn\n",
    "    \n",
    "    def _get_buffer_knn(self) -> NearestNeighbors:\n",
    "        if self._buffer_knn is None:\n",
    "            self._buffer_knn = self._bruteforce_knn(self.temporary_buffer)\n",
    "        return self._buffer_knn\n",
    "    \n",
    "    def get(self, inputs: torch.FloatTensor) -> torch.FloatTensor:\n",
    "        with torch.no_grad():\n",
    "            vectors = inputs.detach().cpu().float().numpy()\n",
    "        vectors_normed = self._norm(vectors)\n",
    "        nn: NearestNeighbors\n",
    "        knns = self.knns\n",
    "        if self.temporary_buffer:\n",
    "            knns = knns + [self._get_buffer_knn()]\n",
    "        if len(knns) == 0:\n",
    "            return inputs\n",
    "        vectors_found = np.zeros(\n",
    "            (inputs.shape[0], len(knns), self.top_k, inputs.shape[1]),\n",
    "            dtype=np.float32\n",
    "        )\n",
    "        distances_found = np.zeros(\n",
    "            (inputs.shape[0], len(knns), self.top_k)\n",
    "        )\n",
    "        for i, nn in enumerate(knns):\n",
    "            distances, indices_local = nn.kneighbors(vectors_normed, return_distance=True)\n",
    "            indices = indices_local + i * self.max_temporary_buffer_size\n",
    "            for j in range(self.top_k):\n",
    "                jth_vectors = [\n",
    "                    self.vectors[index]\n",
    "                    for index in indices[:, j]\n",
    "                ]\n",
    "                jth_distances = distances[:, j]\n",
    "                vectors_found[:, i, j, :] = jth_vectors\n",
    "                distances_found[:, i, j] = jth_distances\n",
    "        vectors_found = vectors_found.reshape((inputs.shape[0], len(knns) * self.top_k, inputs.shape[1]))\n",
    "        distances_found = distances_found.reshape((inputs.shape[0], len(knns) * self.top_k))\n",
    "\n",
    "        vectors_chosen = np.zeros((inputs.shape[0], self.top_k, inputs.shape[1]))\n",
    "        for i in range(inputs.shape[0]):\n",
    "            item_vectors = vectors_found[i]\n",
    "            item_distances = distances_found[i]\n",
    "            item_distances_min = item_distances.argsort()[:self.top_k]\n",
    "            item_vectors_chosen = [item_vectors[j] for j in item_distances_min]\n",
    "            for j, vector in enumerate(item_vectors_chosen):\n",
    "                vectors_chosen[i, j, :] = vector\n",
    "        \n",
    "        with torch.no_grad():\n",
    "            vectors_chosen_torch = torch.tensor(vectors_chosen, dtype=inputs.dtype, device=inputs.device)\n",
    "        return vectors_chosen_torch\n",
    "    \n",
    "    def _add_filtered(self, inputs: torch.FloatTensor) -> None:\n",
    "        with torch.no_grad():\n",
    "            vectors = inputs.detach().cpu().float().numpy()\n",
    "        vectors_list = list(vectors)\n",
    "        if len(vectors_list):\n",
    "            self._buffer_knn = None\n",
    "        self.temporary_buffer += vectors_list\n",
    "        self.vectors += vectors_list\n",
    "        if len(self.temporary_buffer) >= self.max_temporary_buffer_size:\n",
    "            knn_count = len(self.temporary_buffer) // self.max_temporary_buffer_size\n",
    "            rest_buffer_length = len(self.temporary_buffer) % self.max_temporary_buffer_size\n",
    "            for i in range(knn_count):\n",
    "                embeddings = self.temporary_buffer[i * self.max_temporary_buffer_size : (i + 1) * self.max_temporary_buffer_size]\n",
    "                self.knns.append(self._knn(embeddings))\n",
    "            if rest_buffer_length == 0:\n",
    "                self.temporary_buffer = []\n",
    "            else:\n",
    "                self.temporary_buffer = self.temporary_buffer[-rest_buffer_length:]\n",
    "\n",
    "    def save(self, directory: str) -> None:\n",
    "        os.makedirs(directory, exist_ok=True)\n",
    "        with open(os.path.join(directory, \"cosine-knn-memory.pkl\"), \"wb\") as dst:\n",
    "            pickle.dump(self, dst)\n",
    "\n",
    "    @staticmethod\n",
    "    def load(directory: str) -> BaseMemoryCollection:\n",
    "        with open(os.path.join(directory, \"cosine-knn-memory.pkl\"), \"rb\") as src:\n",
    "            memory = pickle.load(src)\n",
    "            assert isinstance(memory, CosineKnnMemoryCollection)\n",
    "            return memory"
   ]
  },
  {
   "attachments": {},
   "cell_type": "markdown",
   "metadata": {},
   "source": [
    "## Tests"
   ]
  },
  {
   "attachments": {},
   "cell_type": "markdown",
   "metadata": {},
   "source": [
    "### Distances corellation"
   ]
  },
  {
   "cell_type": "code",
   "execution_count": 5,
   "metadata": {},
   "outputs": [],
   "source": [
    "def _test_cosine_vectors(vec1, vec2):\n",
    "    norm1 = np.sqrt((vec1 ** 2).sum())\n",
    "    norm2 = np.sqrt((vec2 ** 2).sum())\n",
    "    return 1.0 - (vec1 * vec2).sum() / (norm1 * norm2)"
   ]
  },
  {
   "cell_type": "code",
   "execution_count": 6,
   "metadata": {},
   "outputs": [],
   "source": [
    "def _test_normed_l2_vectors(vec1, vec2):\n",
    "    def _normed(vector):\n",
    "        return vector / np.sqrt((vector ** 2).sum())\n",
    "    \n",
    "    vec1 = _normed(vec1)\n",
    "    vec2 = _normed(vec2)\n",
    "    return np.sqrt(((vec1 - vec2) ** 2).sum())"
   ]
  },
  {
   "cell_type": "code",
   "execution_count": 7,
   "metadata": {},
   "outputs": [],
   "source": [
    "def _test_distances_corr():\n",
    "    vecs1 = np.random.rand(10000 * 100).reshape([10000, -1])\n",
    "    vecs2 = np.random.rand(10000 * 100).reshape([10000, -1])\n",
    "    cosine = [_test_cosine_vectors(vecs1[i], vecs2[i]) for i in range(10000)]\n",
    "    normed_l2 = [_test_normed_l2_vectors(vecs1[i], vecs2[i]) for i in range(10000)]\n",
    "    correllation = pd.DataFrame({\"cosine\": cosine, \"normed_l2\": normed_l2}).corr(method=\"spearman\")[\"cosine\"][\"normed_l2\"]\n",
    "    return correllation"
   ]
  },
  {
   "cell_type": "code",
   "execution_count": 8,
   "metadata": {},
   "outputs": [
    {
     "data": {
      "text/plain": [
       "(1.0, 1.0)"
      ]
     },
     "execution_count": 8,
     "metadata": {},
     "output_type": "execute_result"
    }
   ],
   "source": [
    "corrs = []\n",
    "for i in range(20):\n",
    "    np.random.seed(42 + i)\n",
    "    corrs.append(_test_distances_corr())\n",
    "assert min(corrs) >= 0.99\n",
    "min(corrs), max(corrs)"
   ]
  },
  {
   "attachments": {},
   "cell_type": "markdown",
   "metadata": {},
   "source": [
    "### Memory"
   ]
  },
  {
   "cell_type": "code",
   "execution_count": 9,
   "metadata": {},
   "outputs": [],
   "source": [
    "vectors_count = 10000\n",
    "vectors_dim = 100\n",
    "max_buffer_size = 1000\n",
    "batch_size = 2\n",
    "eps = 1e-6\n",
    "\n",
    "np.random.seed(42)\n",
    "vectors = torch.FloatTensor(np.random.rand(vectors_count * vectors_dim).reshape([vectors_count, -1]))\n",
    "batch_indices = torch.LongTensor([i for i in range(batch_size)])\n",
    "\n",
    "memory = CosineKnnMemoryCollection(top_k=1, max_temporary_buffer_size=max_buffer_size, remember_until_position=vectors_count)\n",
    "\n",
    "for i in range(vectors_count // batch_size):\n",
    "    batch = vectors[i * batch_size : (i + 1) * batch_size]\n",
    "    # In real life we should at first retrieve the similar embeddings than add new ones, but we're just testing memory mechanism itself\n",
    "    memory.add(batch, batch_indices)\n",
    "    batch_extracted = memory.get(batch)\n",
    "    assert (batch.view(batch_extracted.shape) - batch_extracted).abs().max() < eps"
   ]
  },
  {
   "cell_type": "code",
   "execution_count": 10,
   "metadata": {},
   "outputs": [],
   "source": [
    "np.random.seed(202305)\n",
    "oor_vectors = torch.FloatTensor(np.random.rand(batch_size * vectors_dim).reshape([batch_size, -1]))\n",
    "memory.add(oor_vectors, batch_indices)\n",
    "assert (oor_vectors - memory.get(oor_vectors).view(oor_vectors.shape)).abs().mean() >= 0.1"
   ]
  },
  {
   "cell_type": "code",
   "execution_count": 11,
   "metadata": {},
   "outputs": [],
   "source": [
    "memory.save(\"temp-memory-test\")\n",
    "memory_loaded = CosineKnnMemoryCollection.load(\"temp-memory-test\")\n",
    "for i in range(vectors_count // batch_size):\n",
    "    batch = vectors[i * batch_size : (i + 1) * batch_size]\n",
    "    batch_extracted = memory_loaded.get(batch)\n",
    "    assert (batch.view(batch_extracted.shape) - batch_extracted).abs().max() < eps"
   ]
  },
  {
   "cell_type": "code",
   "execution_count": 12,
   "metadata": {},
   "outputs": [],
   "source": [
    "#| hide\n",
    "import nbdev; nbdev.nbdev_export()"
   ]
  }
 ],
 "metadata": {
  "kernelspec": {
   "display_name": "python3",
   "language": "python",
   "name": "python3"
  },
  "language_info": {
   "codemirror_mode": {
    "name": "ipython",
    "version": 3
   },
   "file_extension": ".py",
   "mimetype": "text/x-python",
   "name": "python",
   "nbconvert_exporter": "python",
   "pygments_lexer": "ipython3",
   "version": "3.11.3"
  }
 },
 "nbformat": 4,
 "nbformat_minor": 2
}
