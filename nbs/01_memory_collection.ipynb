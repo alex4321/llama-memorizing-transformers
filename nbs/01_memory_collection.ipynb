{
 "cells": [
  {
   "attachments": {},
   "cell_type": "markdown",
   "metadata": {},
   "source": [
    "# Memory mechanism"
   ]
  },
  {
   "attachments": {},
   "cell_type": "markdown",
   "metadata": {},
   "source": [
    "## Implementation"
   ]
  },
  {
   "attachments": {},
   "cell_type": "markdown",
   "metadata": {},
   "source": [
    "The \"memorizing transformer\" paper introduce knn-attention mix which works the following way:\n",
    "\n",
    "```\n",
    "knn_attention(embeddings) = attention(\n",
    "    knn(embeddingd_storage, embeddings) * weight_knn +\n",
    "    embeddings * weight_local\n",
    ")\n",
    "```\n",
    "\n",
    "Where knn is nearest-neightbours embeddings extraction and after each inference step the corresponding `embeddings` are added to the `embeddings_storage`"
   ]
  },
  {
   "cell_type": "code",
   "execution_count": 1,
   "metadata": {},
   "outputs": [],
   "source": [
    "#| default_exp memory_collection"
   ]
  },
  {
   "cell_type": "code",
   "execution_count": 2,
   "metadata": {},
   "outputs": [],
   "source": [
    "#| export\n",
    "from __future__ import annotations\n",
    "import os\n",
    "from typing import Union, List\n",
    "import pickle\n",
    "import numpy as np\n",
    "import pandas as pd\n",
    "import torch\n",
    "from sklearn.neighbors import NearestNeighbors"
   ]
  },
  {
   "cell_type": "code",
   "execution_count": 3,
   "metadata": {},
   "outputs": [],
   "source": [
    "#| export\n",
    "class BaseMemoryCollection:\n",
    "    def reset(self) -> None:\n",
    "        \"\"\"\n",
    "        Reset memory\n",
    "        \"\"\"\n",
    "        raise NotImplementedError()\n",
    "    \n",
    "    def get(self, inputs: torch.FloatTensor) -> torch.FloatTensor:\n",
    "        \"\"\"\n",
    "        Get relevant \"memories\".\n",
    "        \"\"\"\n",
    "        raise NotImplementedError()\n",
    "    \n",
    "    def add(self, inputs: torch.FloatTensor) -> torch.FloatTensor:\n",
    "        \"\"\"\n",
    "        Remember stuff\n",
    "        \"\"\"\n",
    "        raise NotImplementedError()\n",
    "    \n",
    "    def save(self, directory: str) -> None:\n",
    "        \"\"\"\n",
    "        Save memory state\n",
    "        \"\"\"\n",
    "        raise NotImplementedError()\n",
    "    \n",
    "    @staticmethod\n",
    "    def load(directory: str) -> BaseMemoryCollection:\n",
    "        \"\"\"\n",
    "        Load memory state\n",
    "        \"\"\"\n",
    "        raise NotImplementedError()"
   ]
  },
  {
   "cell_type": "code",
   "execution_count": 4,
   "metadata": {},
   "outputs": [],
   "source": [
    "#| export\n",
    "class CosineKnnMemoryCollection(BaseMemoryCollection):\n",
    "    def __init__(self, max_temporary_buffer_size: int) -> None:\n",
    "        super().__init__()\n",
    "        self.max_temporary_buffer_size = max_temporary_buffer_size\n",
    "        self.knns = []\n",
    "        self.temporary_buffer = []\n",
    "        self.vectors = []\n",
    "\n",
    "    def _embeddings_numpy(self, embeddings: Union[np.ndarray, List[np.ndarray]]) -> np.ndarray:\n",
    "        if isinstance(embeddings, list):\n",
    "            return np.array(embeddings)\n",
    "        return embeddings\n",
    "    \n",
    "    def _norm(self, inputs: np.ndarray) -> np.ndarray:\n",
    "        embedding_dim = inputs.shape[-1]\n",
    "        \n",
    "        # sqrt(embedding_dim * (x^2)) = 1.0, x>0\n",
    "        # embedding_dim * x^2 = 1.0, x>0\n",
    "        # x^2 = 1/embedding_dim, x>0\n",
    "        # x = 1/sqrt(embedding_dim)\n",
    "        filler_dim_value = 1 / np.sqrt(embedding_dim)\n",
    "\n",
    "        norm = np.sqrt((inputs ** 2).sum(axis=-1, keepdims=True))\n",
    "        \n",
    "        inputs_normed = inputs / norm\n",
    "        inputs_normed[norm[:, 0] == 0] = filler_dim_value\n",
    "        \n",
    "        return inputs_normed\n",
    "\n",
    "    def _bruteforce_knn(self, embeddings) -> NearestNeighbors:\n",
    "        # Cosine similarity and L2 distance on normed vectors have 1.0 corellation\n",
    "        # Minkowski metric with p=2 is same as L2\n",
    "        nn = NearestNeighbors(n_neighbors=1, algorithm=\"brute\", metric=\"minkowski\", p=2, n_jobs=-1)\n",
    "        nn.fit(self._norm(self._embeddings_numpy(embeddings)))\n",
    "        return nn\n",
    "    \n",
    "    def _knn(self, embeddings) -> NearestNeighbors:\n",
    "        # Cosine similarity and L2 distance on normed vectors have 1.0 corellation\n",
    "        # Minkowski metric with p=2 is same as L2\n",
    "        nn = NearestNeighbors(n_neighbors=1, algorithm=\"auto\", metric=\"minkowski\", p=2, n_jobs=-1)\n",
    "        nn.fit(self._norm(self._embeddings_numpy(embeddings)))\n",
    "        return nn\n",
    "    \n",
    "    def get(self, inputs: torch.FloatTensor) -> torch.FloatTensor:\n",
    "        vectors = inputs.detach().cpu().float().numpy()\n",
    "        vectors_normed = self._norm(vectors)\n",
    "        nn: NearestNeighbors\n",
    "        knns = self.knns\n",
    "        if self.temporary_buffer:\n",
    "            knns = knns + [self._bruteforce_knn(self.temporary_buffer)]\n",
    "        if len(knns) == 0:\n",
    "            return inputs\n",
    "        vectors_found = np.zeros(\n",
    "            (inputs.shape[0], len(knns), inputs.shape[1]),\n",
    "            dtype=np.float32\n",
    "        )\n",
    "        for i, nn in enumerate(knns):\n",
    "            indices_local = nn.kneighbors(vectors_normed, return_distance=False)\n",
    "            indices = indices_local + i * self.max_temporary_buffer_size\n",
    "            indices = indices.ravel()\n",
    "            nn_vectors = [self.vectors[i] for i in indices]\n",
    "            vectors_found[:, i, :] = nn_vectors\n",
    "        vectors_chosen = np.zeros((inputs.shape[0], inputs.shape[1]))\n",
    "        for i in range(inputs.shape[0]):\n",
    "            nn: NearestNeighbors = self._bruteforce_knn(vectors_found[i])\n",
    "            index = nn.kneighbors(vectors_normed[[i]], return_distance=False)\n",
    "            index = index.ravel()[0]\n",
    "            vectors_chosen[i, :] = vectors_found[i, index, :]\n",
    "        vectors_chosen_torch = torch.tensor(vectors_chosen, dtype=inputs.dtype, device=inputs.device)\n",
    "        return vectors_chosen_torch\n",
    "    \n",
    "    def add(self, inputs: torch.FloatTensor) -> torch.FloatTensor:\n",
    "        vectors = inputs.detach().cpu().float().numpy()\n",
    "        vectors_list = list(vectors)\n",
    "        self.temporary_buffer += vectors_list\n",
    "        self.vectors += vectors_list\n",
    "        if len(self.temporary_buffer) >= self.max_temporary_buffer_size:\n",
    "            knn_count = len(self.temporary_buffer) // self.max_temporary_buffer_size\n",
    "            rest_buffer_length = len(self.temporary_buffer) % self.max_temporary_buffer_size\n",
    "            for i in range(knn_count):\n",
    "                embeddings = self.temporary_buffer[i * self.max_temporary_buffer_size : (i + 1) * self.max_temporary_buffer_size]\n",
    "                self.knns.append(self._knn(embeddings))\n",
    "            if rest_buffer_length == 0:\n",
    "                self.temporary_buffer = []\n",
    "            else:\n",
    "                self.temporary_buffer = self.temporary_buffer[-rest_buffer_length:]\n",
    "\n",
    "    def save(self, directory: str) -> None:\n",
    "        os.makedirs(directory, exist_ok=True)\n",
    "        with open(os.path.join(directory, \"cosine-knn-memory.pkl\"), \"wb\") as dst:\n",
    "            pickle.dump(self, dst)\n",
    "\n",
    "    @staticmethod\n",
    "    def load(directory: str) -> BaseMemoryCollection:\n",
    "        with open(os.path.join(directory, \"cosine-knn-memory.pkl\"), \"rb\") as src:\n",
    "            memory = pickle.load(src)\n",
    "            assert isinstance(memory, CosineKnnMemoryCollection)\n",
    "            return memory"
   ]
  },
  {
   "attachments": {},
   "cell_type": "markdown",
   "metadata": {},
   "source": [
    "## Tests"
   ]
  },
  {
   "attachments": {},
   "cell_type": "markdown",
   "metadata": {},
   "source": [
    "### Distances corellation"
   ]
  },
  {
   "cell_type": "code",
   "execution_count": 5,
   "metadata": {},
   "outputs": [],
   "source": [
    "def _test_cosine_vectors(vec1, vec2):\n",
    "    norm1 = np.sqrt((vec1 ** 2).sum())\n",
    "    norm2 = np.sqrt((vec2 ** 2).sum())\n",
    "    return 1.0 - (vec1 * vec2).sum() / (norm1 * norm2)"
   ]
  },
  {
   "cell_type": "code",
   "execution_count": 6,
   "metadata": {},
   "outputs": [],
   "source": [
    "def _test_normed_l2_vectors(vec1, vec2):\n",
    "    def _normed(vector):\n",
    "        return vector / np.sqrt((vector ** 2).sum())\n",
    "    \n",
    "    vec1 = _normed(vec1)\n",
    "    vec2 = _normed(vec2)\n",
    "    return np.sqrt(((vec1 - vec2) ** 2).sum())"
   ]
  },
  {
   "cell_type": "code",
   "execution_count": 7,
   "metadata": {},
   "outputs": [],
   "source": [
    "def _test_distances_corr():\n",
    "    vecs1 = np.random.rand(10000 * 100).reshape([10000, -1])\n",
    "    vecs2 = np.random.rand(10000 * 100).reshape([10000, -1])\n",
    "    cosine = [_test_cosine_vectors(vecs1[i], vecs2[i]) for i in range(10000)]\n",
    "    normed_l2 = [_test_normed_l2_vectors(vecs1[i], vecs2[i]) for i in range(10000)]\n",
    "    correllation = pd.DataFrame({\"cosine\": cosine, \"normed_l2\": normed_l2}).corr(method=\"spearman\")[\"cosine\"][\"normed_l2\"]\n",
    "    return correllation"
   ]
  },
  {
   "cell_type": "code",
   "execution_count": 8,
   "metadata": {},
   "outputs": [
    {
     "data": {
      "text/plain": [
       "(1.0, 1.0)"
      ]
     },
     "execution_count": 8,
     "metadata": {},
     "output_type": "execute_result"
    }
   ],
   "source": [
    "corrs = []\n",
    "for i in range(20):\n",
    "    np.random.seed(42 + i)\n",
    "    corrs.append(_test_distances_corr())\n",
    "assert min(corrs) >= 0.99\n",
    "min(corrs), max(corrs)"
   ]
  },
  {
   "attachments": {},
   "cell_type": "markdown",
   "metadata": {},
   "source": [
    "### Memory"
   ]
  },
  {
   "cell_type": "code",
   "execution_count": 9,
   "metadata": {},
   "outputs": [],
   "source": [
    "vectors_count = 10000\n",
    "vectors_dim = 100\n",
    "max_buffer_size = 1000\n",
    "batch_size = 2\n",
    "eps = 1e-6\n",
    "\n",
    "np.random.seed(42)\n",
    "vectors = torch.FloatTensor(np.random.rand(vectors_count * vectors_dim).reshape([vectors_count, -1]))\n",
    "memory = CosineKnnMemoryCollection(max_buffer_size)\n",
    "for i in range(vectors_count // batch_size):\n",
    "    batch = vectors[i * batch_size : (i + 1) * batch_size]\n",
    "    # In real life we should at first retrieve the similar embeddings than add new ones, but we're just testing memory mechanism itself\n",
    "    memory.add(batch)\n",
    "    batch_extracted = memory.get(batch)\n",
    "    assert (batch - batch_extracted).abs().max() < eps\n",
    "memory.save(\"temp-memory-test\")\n",
    "memory_loaded = CosineKnnMemoryCollection.load(\"temp-memory-test\")\n",
    "for i in range(vectors_count // batch_size):\n",
    "    batch = vectors[i * batch_size : (i + 1) * batch_size]\n",
    "    batch_extracted = memory_loaded.get(batch)\n",
    "    assert (batch - batch_extracted).abs().max() < eps"
   ]
  },
  {
   "cell_type": "code",
   "execution_count": 10,
   "metadata": {},
   "outputs": [],
   "source": [
    "#| hide\n",
    "import nbdev; nbdev.nbdev_export()"
   ]
  }
 ],
 "metadata": {
  "kernelspec": {
   "display_name": "python3",
   "language": "python",
   "name": "python3"
  },
  "language_info": {
   "codemirror_mode": {
    "name": "ipython",
    "version": 3
   },
   "file_extension": ".py",
   "mimetype": "text/x-python",
   "name": "python",
   "nbconvert_exporter": "python",
   "pygments_lexer": "ipython3",
   "version": "3.11.3"
  }
 },
 "nbformat": 4,
 "nbformat_minor": 2
}
