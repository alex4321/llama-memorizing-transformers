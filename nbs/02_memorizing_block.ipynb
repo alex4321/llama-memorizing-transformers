{
 "cells": [
  {
   "cell_type": "code",
   "execution_count": null,
   "metadata": {},
   "outputs": [],
   "source": [
    "#| default_exp memorizing_block"
   ]
  },
  {
   "cell_type": "code",
   "execution_count": null,
   "metadata": {},
   "outputs": [
    {
     "name": "stderr",
     "output_type": "stream",
     "text": [
      "/home/alex4321/anaconda3/envs/longdocchat/lib/python3.11/site-packages/tqdm/auto.py:21: TqdmWarning: IProgress not found. Please update jupyter and ipywidgets. See https://ipywidgets.readthedocs.io/en/stable/user_install.html\n",
      "  from .autonotebook import tqdm as notebook_tqdm\n"
     ]
    },
    {
     "ename": "ModuleNotFoundError",
     "evalue": "No module named 'llama_memorizing_transformers'",
     "output_type": "error",
     "traceback": [
      "\u001b[0;31m---------------------------------------------------------------------------\u001b[0m",
      "\u001b[0;31mModuleNotFoundError\u001b[0m                       Traceback (most recent call last)",
      "Cell \u001b[0;32mIn[2], line 6\u001b[0m\n\u001b[1;32m      4\u001b[0m \u001b[39mimport\u001b[39;00m \u001b[39mtorch\u001b[39;00m\u001b[39m.\u001b[39;00m\u001b[39mnn\u001b[39;00m \u001b[39mas\u001b[39;00m \u001b[39mnn\u001b[39;00m\n\u001b[1;32m      5\u001b[0m \u001b[39mfrom\u001b[39;00m \u001b[39mtransformers\u001b[39;00m\u001b[39m.\u001b[39;00m\u001b[39mmodels\u001b[39;00m\u001b[39m.\u001b[39;00m\u001b[39mllama\u001b[39;00m\u001b[39m.\u001b[39;00m\u001b[39mmodeling_llama\u001b[39;00m \u001b[39mimport\u001b[39;00m LlamaDecoderLayer\n\u001b[0;32m----> 6\u001b[0m \u001b[39mfrom\u001b[39;00m \u001b[39mllama_memorizing_transformers\u001b[39;00m\u001b[39m.\u001b[39;00m\u001b[39mcontext_choice\u001b[39;00m \u001b[39mimport\u001b[39;00m BaseContextChoice\n\u001b[1;32m      7\u001b[0m \u001b[39mfrom\u001b[39;00m \u001b[39mllama_memorizing_transformers\u001b[39;00m\u001b[39m.\u001b[39;00m\u001b[39mmemory_collection\u001b[39;00m \u001b[39mimport\u001b[39;00m BaseMemoryCollection\n",
      "\u001b[0;31mModuleNotFoundError\u001b[0m: No module named 'llama_memorizing_transformers'"
     ]
    }
   ],
   "source": [
    "#| export\n",
    "from typing import Optional, Tuple\n",
    "import torch\n",
    "import torch.nn as nn\n",
    "from transformers.models.llama.modeling_llama import LlamaDecoderLayer\n",
    "from llama_memorizing_transformers.context_choice import BaseContextChoice\n",
    "from llama_memorizing_transformers.memory_collection import BaseMemoryCollection"
   ]
  },
  {
   "cell_type": "code",
   "execution_count": null,
   "metadata": {},
   "outputs": [],
   "source": [
    "#| export\n",
    "class MemorizingLlamaDecoderLayer(nn.Module):\n",
    "    def __init__(self,\n",
    "                 module: LlamaDecoderLayer,\n",
    "                 context_choice: BaseContextChoice,\n",
    "                 memory: BaseMemoryCollection) -> None:\n",
    "        \"\"\"\n",
    "        Module wraps original LlamaDecoderLayer to add memorizing stuff\n",
    "        :param module: original decoder layer\n",
    "        :param context_choice: local vs memory context mixer\n",
    "        :param memory: memory implementation itself\n",
    "        \"\"\"\n",
    "        super(MemorizingLlamaDecoderLayer, self).__init__()\n",
    "        self.module = module\n",
    "        self.context_choice = context_choice\n",
    "        self.memory = memory\n",
    "\n",
    "    def forward(\n",
    "        self,\n",
    "        hidden_states: torch.Tensor,\n",
    "        attention_mask: Optional[torch.Tensor] = None,\n",
    "        position_ids: Optional[torch.LongTensor] = None,\n",
    "        past_key_value: Optional[Tuple[torch.Tensor]] = None,\n",
    "        output_attentions: Optional[bool] = False,\n",
    "        use_cache: Optional[bool] = False,\n",
    "    ) -> Tuple[torch.FloatTensor, Optional[Tuple[torch.FloatTensor, torch.FloatTensor]]]:\n",
    "        hidden_states_memory = self.memory.get(hidden_states)\n",
    "        hidden_states_merged = self.context_choice(hidden_states, hidden_states_memory)\n",
    "        self.memory.add(hidden_states)\n",
    "\n",
    "        return self.module(hidden_states_merged,\n",
    "                           attention_mask,\n",
    "                           position_ids,\n",
    "                           past_key_value,\n",
    "                           output_attentions,\n",
    "                           use_cache)"
   ]
  },
  {
   "cell_type": "code",
   "execution_count": null,
   "metadata": {},
   "outputs": [],
   "source": [
    "#| hide\n",
    "import nbdev; nbdev.nbdev_export()"
   ]
  }
 ],
 "metadata": {
  "kernelspec": {
   "display_name": "python3",
   "language": "python",
   "name": "python3"
  }
 },
 "nbformat": 4,
 "nbformat_minor": 2
}
