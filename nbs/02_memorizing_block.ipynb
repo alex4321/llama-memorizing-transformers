{
 "cells": [
  {
   "cell_type": "code",
   "execution_count": 1,
   "metadata": {},
   "outputs": [],
   "source": [
    "#| default_exp memorizing_block"
   ]
  },
  {
   "cell_type": "code",
   "execution_count": 4,
   "metadata": {},
   "outputs": [],
   "source": [
    "#| export\n",
    "from typing import Optional, Tuple\n",
    "import torch\n",
    "import torch.nn as nn\n",
    "from transformers.models.llama.modeling_llama import LlamaDecoderLayer\n",
    "from llama_memorizing_transformers.context_choice import BaseContextChoice\n",
    "from llama_memorizing_transformers.memory_collection import BaseMemoryCollection"
   ]
  },
  {
   "cell_type": "code",
   "execution_count": null,
   "metadata": {},
   "outputs": [],
   "source": [
    "#| export\n",
    "class MemorizingLlamaDecoderLayer(nn.Module):\n",
    "    def __init__(self, module: LlamaDecoderLayer, context_choice: BaseContextChoice, memory: BaseMemoryCollection) -> None:\n",
    "        \"\"\"\n",
    "        Module wraps original LlamaDecoderLayer to add memorizing stuff\n",
    "        :param module: original decoder layer\n",
    "        :param context_choice: local vs memory context mixer\n",
    "        :param memory: memory implementation itself\n",
    "        \"\"\"\n",
    "        super(MemorizingLlamaDecoderLayer, self).__init__()\n",
    "        self.module = module\n",
    "        self.context_choice = context_choice\n",
    "        self.memory = memory\n",
    "\n",
    "    def forward(\n",
    "        self,\n",
    "        hidden_states: torch.Tensor,\n",
    "        attention_mask: Optional[torch.Tensor] = None,\n",
    "        position_ids: Optional[torch.LongTensor] = None,\n",
    "        past_key_value: Optional[Tuple[torch.Tensor]] = None,\n",
    "        output_attentions: Optional[bool] = False,\n",
    "        use_cache: Optional[bool] = False,\n",
    "    ) -> Tuple[torch.FloatTensor, Optional[Tuple[torch.FloatTensor, torch.FloatTensor]]]:\n",
    "        hidden_states_memory = self.memory.get(hidden_states)\n",
    "        hidden_states_merged = self.context_choice(hidden_states, hidden_states_memory)\n",
    "        self.memory.add(hidden_states)\n",
    "\n",
    "        return self.module(hidden_states_merged, attention_mask, position_ids, past_key_value, output_attentions, use_cache)"
   ]
  },
  {
   "cell_type": "code",
   "execution_count": 5,
   "metadata": {},
   "outputs": [],
   "source": [
    "#| hide\n",
    "import nbdev; nbdev.nbdev_export()"
   ]
  }
 ],
 "metadata": {
  "kernelspec": {
   "display_name": "longdocchat",
   "language": "python",
   "name": "python3"
  },
  "language_info": {
   "codemirror_mode": {
    "name": "ipython",
    "version": 3
   },
   "file_extension": ".py",
   "mimetype": "text/x-python",
   "name": "python",
   "nbconvert_exporter": "python",
   "pygments_lexer": "ipython3",
   "version": "3.11.3"
  },
  "orig_nbformat": 4
 },
 "nbformat": 4,
 "nbformat_minor": 2
}
