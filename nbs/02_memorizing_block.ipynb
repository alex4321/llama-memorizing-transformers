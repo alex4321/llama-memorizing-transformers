{
 "cells": [
  {
   "cell_type": "code",
   "execution_count": 1,
   "metadata": {},
   "outputs": [],
   "source": [
    "#| default_exp memorizing_block"
   ]
  },
  {
   "cell_type": "code",
   "execution_count": 2,
   "metadata": {},
   "outputs": [
    {
     "name": "stderr",
     "output_type": "stream",
     "text": [
      "/home/alex4321/anaconda3/envs/longdocchat/lib/python3.11/site-packages/tqdm/auto.py:21: TqdmWarning: IProgress not found. Please update jupyter and ipywidgets. See https://ipywidgets.readthedocs.io/en/stable/user_install.html\n",
      "  from .autonotebook import tqdm as notebook_tqdm\n"
     ]
    }
   ],
   "source": [
    "#| export\n",
    "from typing import Optional, Tuple\n",
    "import torch\n",
    "import torch.nn as nn\n",
    "from transformers.models.llama.modeling_llama import LlamaDecoderLayer\n",
    "from llama_memorizing_transformers.context_choice import BaseContextChoice\n",
    "from llama_memorizing_transformers.memory_collection import BaseMemoryCollection"
   ]
  },
  {
   "cell_type": "code",
   "execution_count": 3,
   "metadata": {},
   "outputs": [],
   "source": [
    "#| export\n",
    "class MemorizingLlamaDecoderLayer(nn.Module):\n",
    "    def __init__(self,\n",
    "                 module: LlamaDecoderLayer,\n",
    "                 context_choice: BaseContextChoice,\n",
    "                 memory: BaseMemoryCollection,\n",
    "                 device: torch.device) -> None:\n",
    "        \"\"\"\n",
    "        Module wraps original LlamaDecoderLayer to add memorizing stuff\n",
    "        :param module: original decoder layer\n",
    "        :param context_choice: local vs memory context mixer\n",
    "        :param memory: memory implementation itself\n",
    "        \"\"\"\n",
    "        super(MemorizingLlamaDecoderLayer, self).__init__()\n",
    "        self.module = module\n",
    "        self.context_choice = context_choice\n",
    "        self.memory = memory\n",
    "\n",
    "    def _extract_from_memory(self, hidden_states: torch.Tensor) -> torch.Tensor:\n",
    "        with torch.no_grad():\n",
    "            batch_size, seq_length, embeddings_dim = hidden_states.shape\n",
    "            hidden_states_memory = []\n",
    "            for i in range(batch_size):\n",
    "                hidden_states_memory.append(\n",
    "                    self.memory.get(hidden_states[i]).view((1, seq_length, embeddings_dim))\n",
    "                )\n",
    "            hidden_states_memory = torch.cat(hidden_states_memory)\n",
    "        return hidden_states_memory\n",
    "    \n",
    "    def _add_to_memory(self, hidden_states: torch.Tensor, position_ids: torch.LongTensor) -> None:\n",
    "        with torch.no_grad():\n",
    "            batch_size, _, _ = hidden_states.shape\n",
    "            for i in range(batch_size):\n",
    "                sample_hidden_states = hidden_states[i]\n",
    "                sample_memory_position_ids = position_ids[i]\n",
    "                self.memory.add(sample_hidden_states, sample_memory_position_ids)\n",
    "\n",
    "    def _normed(self, hidden_states: torch.Tensor) -> torch.Tensor:\n",
    "        norm = torch.sqrt((hidden_states ** 2).sum(dim=-1, keepdim=True)) + 1e-4\n",
    "        return hidden_states / norm, norm\n",
    "\n",
    "    def forward(\n",
    "        self,\n",
    "        hidden_states: torch.Tensor,\n",
    "        attention_mask: Optional[torch.Tensor] = None,\n",
    "        position_ids: Optional[torch.LongTensor] = None,\n",
    "        past_key_value: Optional[Tuple[torch.Tensor]] = None,\n",
    "        output_attentions: Optional[bool] = False,\n",
    "        use_cache: Optional[bool] = False,\n",
    "    ) -> Tuple[torch.FloatTensor, Optional[Tuple[torch.FloatTensor, torch.FloatTensor]]]:\n",
    "        hidden_states_memory = self._extract_from_memory(hidden_states)\n",
    "        hidden_states_normed, hidden_states_norm = self._normed(hidden_states)\n",
    "        hidden_states_memory_normed, _ = self._normed(hidden_states_memory)\n",
    "        hidden_states_merged = self.context_choice(hidden_states_normed, hidden_states_memory_normed)\n",
    "        \n",
    "        hidden_states_merged_rescaled = hidden_states_merged * hidden_states_norm\n",
    "\n",
    "        self._add_to_memory(hidden_states, position_ids)\n",
    "        return self.module(hidden_states_merged_rescaled,\n",
    "                           attention_mask,\n",
    "                           position_ids,\n",
    "                           past_key_value,\n",
    "                           output_attentions,\n",
    "                           use_cache)"
   ]
  },
  {
   "cell_type": "code",
   "execution_count": 4,
   "metadata": {},
   "outputs": [],
   "source": [
    "#| hide\n",
    "import nbdev; nbdev.nbdev_export()"
   ]
  }
 ],
 "metadata": {
  "kernelspec": {
   "display_name": "python3",
   "language": "python",
   "name": "python3"
  },
  "language_info": {
   "codemirror_mode": {
    "name": "ipython",
    "version": 3
   },
   "file_extension": ".py",
   "mimetype": "text/x-python",
   "name": "python",
   "nbconvert_exporter": "python",
   "pygments_lexer": "ipython3",
   "version": "3.11.3"
  }
 },
 "nbformat": 4,
 "nbformat_minor": 2
}
